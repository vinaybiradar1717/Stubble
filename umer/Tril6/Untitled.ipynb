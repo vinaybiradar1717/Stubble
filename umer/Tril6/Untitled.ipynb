{
 "cells": [
  {
   "cell_type": "code",
   "execution_count": 1,
   "metadata": {},
   "outputs": [],
   "source": [
    "import numpy as np\n",
    "import matplotlib.pyplot as plt\n",
    "import pandas as pd\n",
    "from sklearn import metrics\n",
    "import seaborn as sns\n",
    "from pandas.plotting import lag_plot"
   ]
  },
  {
   "cell_type": "code",
   "execution_count": 2,
   "metadata": {},
   "outputs": [
    {
     "name": "stdout",
     "output_type": "stream",
     "text": [
      "Index(['date', 'H_pm25', 'H_pm10', 'H_o3', 'H_no2', 'H_so2', 'H_co', 'D_pm25',\n",
      "       'D_pm10', 'D_o3', 'D_no2', 'D_so2', 'D_co', 'P_pm25', 'P_pm10', 'P_o3',\n",
      "       'P_no2', 'P_so2', 'P_co'],\n",
      "      dtype='object')\n"
     ]
    }
   ],
   "source": [
    "dataset =pd.read_csv('ALLHDPD.csv')\n",
    "print(dataset.columns)\n"
   ]
  },
  {
   "cell_type": "code",
   "execution_count": 3,
   "metadata": {},
   "outputs": [],
   "source": [
    "[521.79 828dataset['date']= pd.to_datetime(dataset['date'])\n",
    "dataset = dataset.set_index('date')"
   ]
  },
  {
   "cell_type": "code",
   "execution_count": 4,
   "metadata": {},
   "outputs": [],
   "source": [
    "dataset['H_co'] = pd.to_numeric(dataset['H_co'],errors='coerce')\n",
    "dataset['H_pm25'] = pd.to_numeric(dataset['H_pm25'], errors='coerce')\n",
    "dataset['H_pm10'] = pd.to_numeric(dataset['H_pm10'], errors='coerce')\n",
    "dataset['H_o3'] = pd.to_numeric(dataset['H_o3'], errors='coerce')\n",
    "dataset['H_no2'] = pd.to_numeric(dataset['H_no2'], errors='coerce')\n",
    "dataset['H_so2'] = pd.to_numeric(dataset['H_so2'], errors='coerce')"
   ]
  },
  {
   "cell_type": "code",
   "execution_count": 5,
   "metadata": {},
   "outputs": [
    {
     "name": "stdout",
     "output_type": "stream",
     "text": [
      "<class 'pandas.core.frame.DataFrame'>\n",
      "DatetimeIndex: 364 entries, 2016-09-01 to 2019-11-30\n",
      "Data columns (total 18 columns):\n",
      " #   Column  Non-Null Count  Dtype  \n",
      "---  ------  --------------  -----  \n",
      " 0   H_pm25  364 non-null    int64  \n",
      " 1   H_pm10  273 non-null    float64\n",
      " 2   H_o3    364 non-null    float64\n",
      " 3   H_no2   364 non-null    float64\n",
      " 4   H_so2   364 non-null    float64\n",
      " 5   H_co    364 non-null    float64\n",
      " 6   D_pm25  364 non-null    int64  \n",
      " 7   D_pm10  364 non-null    int64  \n",
      " 8   D_o3    364 non-null    int64  \n",
      " 9   D_no2   364 non-null    int64  \n",
      " 10  D_so2   364 non-null    int64  \n",
      " 11  D_co    364 non-null    int64  \n",
      " 12  P_pm25  364 non-null    int64  \n",
      " 13  P_pm10  364 non-null    int64  \n",
      " 14  P_o3    364 non-null    int64  \n",
      " 15  P_no2   364 non-null    int64  \n",
      " 16  P_so2   364 non-null    int64  \n",
      " 17  P_co    354 non-null    float64\n",
      "dtypes: float64(6), int64(12)\n",
      "memory usage: 54.0 KB\n",
      "None\n",
      "            H_pm25  H_pm10  H_o3  H_no2  H_so2  H_co  D_pm25  D_pm10  D_o3  \\\n",
      "date                                                                         \n",
      "2016-09-01      85    42.0   9.0    6.0    3.0   4.0      76      69     7   \n",
      "2016-09-02     120    42.0   9.0    7.0    3.0   5.0     119      78    12   \n",
      "2016-09-03     142    42.0   8.0    5.0    2.0   6.0     124      84     7   \n",
      "2016-09-04     133    42.0   9.0    5.0    2.0   7.0     126      82    11   \n",
      "2016-09-05     137    42.0  14.0    6.0    4.0   5.0     123      91     7   \n",
      "...            ...     ...   ...    ...    ...   ...     ...     ...   ...   \n",
      "2019-11-26     177     NaN  41.0    7.0   19.0  11.0     169     125    61   \n",
      "2019-11-27     136     NaN  19.0    7.0   10.0   9.0     131      91    16   \n",
      "2019-11-28      90     NaN  28.0    7.0   15.0  12.0      79      49    16   \n",
      "2019-11-29     133     NaN  30.0    7.0   12.0  14.0     114      72    17   \n",
      "2019-11-30     168     NaN  43.0    7.0   10.0  14.0     165      99    15   \n",
      "\n",
      "            D_no2  D_so2  D_co  P_pm25  P_pm10  P_o3  P_no2  P_so2  P_co  \n",
      "date                                                                      \n",
      "2016-09-01     18      5     8      68      42     7      5      3   6.0  \n",
      "2016-09-02     17      4     7      68      42     7      5      3   6.0  \n",
      "2016-09-03     14      5     5      68      42     7      5      3   6.0  \n",
      "2016-09-04     12      4     5      68      42     7      5      3   6.0  \n",
      "2016-09-05     14      5     5      68      42     7      5      3   6.0  \n",
      "...           ...    ...   ...     ...     ...   ...    ...    ...   ...  \n",
      "2019-11-26     22      5    11     137      55     8     26      3   NaN  \n",
      "2019-11-27     22      6     7      98      44     7     23      2   NaN  \n",
      "2019-11-28      8      5     3      98      44     6     21      2   NaN  \n",
      "2019-11-29     17      7     8      83      40    10     17      1   NaN  \n",
      "2019-11-30     17      5     8      83      58     6     16      2   NaN  \n",
      "\n",
      "[364 rows x 18 columns]\n"
     ]
    }
   ],
   "source": [
    "\n",
    "dataset =dataset.bfill()\n",
    "print(dataset.info())\n",
    "print(dataset)"
   ]
  },
  {
   "cell_type": "code",
   "execution_count": 6,
   "metadata": {},
   "outputs": [
    {
     "data": {
      "text/plain": [
       "H_pm25     0\n",
       "H_pm10    91\n",
       "H_o3       0\n",
       "H_no2      0\n",
       "H_so2      0\n",
       "H_co       0\n",
       "D_pm25     0\n",
       "D_pm10     0\n",
       "D_o3       0\n",
       "D_no2      0\n",
       "D_so2      0\n",
       "D_co       0\n",
       "P_pm25     0\n",
       "P_pm10     0\n",
       "P_o3       0\n",
       "P_no2      0\n",
       "P_so2      0\n",
       "P_co      10\n",
       "dtype: int64"
      ]
     },
     "execution_count": 6,
     "metadata": {},
     "output_type": "execute_result"
    }
   ],
   "source": [
    "dataset.isnull().sum()"
   ]
  },
  {
   "cell_type": "code",
   "execution_count": 7,
   "metadata": {},
   "outputs": [
    {
     "data": {
      "text/html": [
       "<div>\n",
       "<style scoped>\n",
       "    .dataframe tbody tr th:only-of-type {\n",
       "        vertical-align: middle;\n",
       "    }\n",
       "\n",
       "    .dataframe tbody tr th {\n",
       "        vertical-align: top;\n",
       "    }\n",
       "\n",
       "    .dataframe thead th {\n",
       "        text-align: right;\n",
       "    }\n",
       "</style>\n",
       "<table border=\"1\" class=\"dataframe\">\n",
       "  <thead>\n",
       "    <tr style=\"text-align: right;\">\n",
       "      <th></th>\n",
       "      <th>H_pm25</th>\n",
       "      <th>H_pm10</th>\n",
       "      <th>H_o3</th>\n",
       "      <th>H_no2</th>\n",
       "      <th>H_so2</th>\n",
       "      <th>H_co</th>\n",
       "      <th>D_pm25</th>\n",
       "      <th>D_pm10</th>\n",
       "      <th>D_o3</th>\n",
       "      <th>D_no2</th>\n",
       "      <th>D_so2</th>\n",
       "      <th>D_co</th>\n",
       "      <th>P_pm25</th>\n",
       "      <th>P_pm10</th>\n",
       "      <th>P_o3</th>\n",
       "      <th>P_no2</th>\n",
       "      <th>P_so2</th>\n",
       "      <th>P_co</th>\n",
       "    </tr>\n",
       "  </thead>\n",
       "  <tbody>\n",
       "    <tr>\n",
       "      <th>count</th>\n",
       "      <td>364.000000</td>\n",
       "      <td>273.000000</td>\n",
       "      <td>364.000000</td>\n",
       "      <td>364.000000</td>\n",
       "      <td>364.000000</td>\n",
       "      <td>364.000000</td>\n",
       "      <td>364.000000</td>\n",
       "      <td>364.000000</td>\n",
       "      <td>364.000000</td>\n",
       "      <td>364.000000</td>\n",
       "      <td>364.000000</td>\n",
       "      <td>364.000000</td>\n",
       "      <td>364.000000</td>\n",
       "      <td>364.000000</td>\n",
       "      <td>364.000000</td>\n",
       "      <td>364.000000</td>\n",
       "      <td>364.000000</td>\n",
       "      <td>354.000000</td>\n",
       "    </tr>\n",
       "    <tr>\n",
       "      <th>mean</th>\n",
       "      <td>177.980769</td>\n",
       "      <td>50.124542</td>\n",
       "      <td>21.719780</td>\n",
       "      <td>8.302198</td>\n",
       "      <td>5.969780</td>\n",
       "      <td>12.469780</td>\n",
       "      <td>234.211538</td>\n",
       "      <td>198.384615</td>\n",
       "      <td>33.695055</td>\n",
       "      <td>32.920330</td>\n",
       "      <td>10.239011</td>\n",
       "      <td>18.324176</td>\n",
       "      <td>94.964286</td>\n",
       "      <td>58.997253</td>\n",
       "      <td>8.947802</td>\n",
       "      <td>7.456044</td>\n",
       "      <td>3.711538</td>\n",
       "      <td>12.672316</td>\n",
       "    </tr>\n",
       "    <tr>\n",
       "      <th>std</th>\n",
       "      <td>91.952690</td>\n",
       "      <td>20.091680</td>\n",
       "      <td>17.939554</td>\n",
       "      <td>4.704127</td>\n",
       "      <td>5.825438</td>\n",
       "      <td>7.747152</td>\n",
       "      <td>107.848668</td>\n",
       "      <td>138.503415</td>\n",
       "      <td>18.086199</td>\n",
       "      <td>17.330739</td>\n",
       "      <td>6.800220</td>\n",
       "      <td>11.691836</td>\n",
       "      <td>39.384750</td>\n",
       "      <td>30.936663</td>\n",
       "      <td>4.381909</td>\n",
       "      <td>4.601562</td>\n",
       "      <td>4.769829</td>\n",
       "      <td>60.126495</td>\n",
       "    </tr>\n",
       "    <tr>\n",
       "      <th>min</th>\n",
       "      <td>22.000000</td>\n",
       "      <td>16.000000</td>\n",
       "      <td>1.000000</td>\n",
       "      <td>1.000000</td>\n",
       "      <td>1.000000</td>\n",
       "      <td>1.000000</td>\n",
       "      <td>74.000000</td>\n",
       "      <td>30.000000</td>\n",
       "      <td>2.000000</td>\n",
       "      <td>3.000000</td>\n",
       "      <td>1.000000</td>\n",
       "      <td>1.000000</td>\n",
       "      <td>32.000000</td>\n",
       "      <td>16.000000</td>\n",
       "      <td>1.000000</td>\n",
       "      <td>1.000000</td>\n",
       "      <td>1.000000</td>\n",
       "      <td>1.000000</td>\n",
       "    </tr>\n",
       "    <tr>\n",
       "      <th>25%</th>\n",
       "      <td>119.750000</td>\n",
       "      <td>42.000000</td>\n",
       "      <td>9.000000</td>\n",
       "      <td>5.000000</td>\n",
       "      <td>3.000000</td>\n",
       "      <td>7.000000</td>\n",
       "      <td>166.000000</td>\n",
       "      <td>99.000000</td>\n",
       "      <td>19.000000</td>\n",
       "      <td>18.000000</td>\n",
       "      <td>5.000000</td>\n",
       "      <td>10.000000</td>\n",
       "      <td>68.000000</td>\n",
       "      <td>42.000000</td>\n",
       "      <td>7.000000</td>\n",
       "      <td>5.000000</td>\n",
       "      <td>3.000000</td>\n",
       "      <td>3.000000</td>\n",
       "    </tr>\n",
       "    <tr>\n",
       "      <th>50%</th>\n",
       "      <td>159.500000</td>\n",
       "      <td>42.000000</td>\n",
       "      <td>17.000000</td>\n",
       "      <td>7.000000</td>\n",
       "      <td>5.000000</td>\n",
       "      <td>10.000000</td>\n",
       "      <td>200.000000</td>\n",
       "      <td>157.000000</td>\n",
       "      <td>32.000000</td>\n",
       "      <td>31.000000</td>\n",
       "      <td>9.000000</td>\n",
       "      <td>15.000000</td>\n",
       "      <td>68.000000</td>\n",
       "      <td>42.000000</td>\n",
       "      <td>7.000000</td>\n",
       "      <td>5.000000</td>\n",
       "      <td>3.000000</td>\n",
       "      <td>6.000000</td>\n",
       "    </tr>\n",
       "    <tr>\n",
       "      <th>75%</th>\n",
       "      <td>214.500000</td>\n",
       "      <td>42.000000</td>\n",
       "      <td>25.000000</td>\n",
       "      <td>10.000000</td>\n",
       "      <td>7.000000</td>\n",
       "      <td>16.000000</td>\n",
       "      <td>276.000000</td>\n",
       "      <td>263.250000</td>\n",
       "      <td>44.250000</td>\n",
       "      <td>46.000000</td>\n",
       "      <td>15.000000</td>\n",
       "      <td>24.250000</td>\n",
       "      <td>124.250000</td>\n",
       "      <td>70.000000</td>\n",
       "      <td>10.000000</td>\n",
       "      <td>9.000000</td>\n",
       "      <td>3.000000</td>\n",
       "      <td>6.000000</td>\n",
       "    </tr>\n",
       "    <tr>\n",
       "      <th>max</th>\n",
       "      <td>464.000000</td>\n",
       "      <td>199.000000</td>\n",
       "      <td>92.000000</td>\n",
       "      <td>31.000000</td>\n",
       "      <td>78.000000</td>\n",
       "      <td>52.000000</td>\n",
       "      <td>618.000000</td>\n",
       "      <td>825.000000</td>\n",
       "      <td>98.000000</td>\n",
       "      <td>90.000000</td>\n",
       "      <td>36.000000</td>\n",
       "      <td>72.000000</td>\n",
       "      <td>275.000000</td>\n",
       "      <td>272.000000</td>\n",
       "      <td>27.000000</td>\n",
       "      <td>29.000000</td>\n",
       "      <td>78.000000</td>\n",
       "      <td>500.000000</td>\n",
       "    </tr>\n",
       "  </tbody>\n",
       "</table>\n",
       "</div>"
      ],
      "text/plain": [
       "           H_pm25      H_pm10        H_o3       H_no2       H_so2        H_co  \\\n",
       "count  364.000000  273.000000  364.000000  364.000000  364.000000  364.000000   \n",
       "mean   177.980769   50.124542   21.719780    8.302198    5.969780   12.469780   \n",
       "std     91.952690   20.091680   17.939554    4.704127    5.825438    7.747152   \n",
       "min     22.000000   16.000000    1.000000    1.000000    1.000000    1.000000   \n",
       "25%    119.750000   42.000000    9.000000    5.000000    3.000000    7.000000   \n",
       "50%    159.500000   42.000000   17.000000    7.000000    5.000000   10.000000   \n",
       "75%    214.500000   42.000000   25.000000   10.000000    7.000000   16.000000   \n",
       "max    464.000000  199.000000   92.000000   31.000000   78.000000   52.000000   \n",
       "\n",
       "           D_pm25      D_pm10        D_o3       D_no2       D_so2        D_co  \\\n",
       "count  364.000000  364.000000  364.000000  364.000000  364.000000  364.000000   \n",
       "mean   234.211538  198.384615   33.695055   32.920330   10.239011   18.324176   \n",
       "std    107.848668  138.503415   18.086199   17.330739    6.800220   11.691836   \n",
       "min     74.000000   30.000000    2.000000    3.000000    1.000000    1.000000   \n",
       "25%    166.000000   99.000000   19.000000   18.000000    5.000000   10.000000   \n",
       "50%    200.000000  157.000000   32.000000   31.000000    9.000000   15.000000   \n",
       "75%    276.000000  263.250000   44.250000   46.000000   15.000000   24.250000   \n",
       "max    618.000000  825.000000   98.000000   90.000000   36.000000   72.000000   \n",
       "\n",
       "           P_pm25      P_pm10        P_o3       P_no2       P_so2        P_co  \n",
       "count  364.000000  364.000000  364.000000  364.000000  364.000000  354.000000  \n",
       "mean    94.964286   58.997253    8.947802    7.456044    3.711538   12.672316  \n",
       "std     39.384750   30.936663    4.381909    4.601562    4.769829   60.126495  \n",
       "min     32.000000   16.000000    1.000000    1.000000    1.000000    1.000000  \n",
       "25%     68.000000   42.000000    7.000000    5.000000    3.000000    3.000000  \n",
       "50%     68.000000   42.000000    7.000000    5.000000    3.000000    6.000000  \n",
       "75%    124.250000   70.000000   10.000000    9.000000    3.000000    6.000000  \n",
       "max    275.000000  272.000000   27.000000   29.000000   78.000000  500.000000  "
      ]
     },
     "execution_count": 7,
     "metadata": {},
     "output_type": "execute_result"
    }
   ],
   "source": [
    "dataset.describe()\n"
   ]
  },
  {
   "cell_type": "code",
   "execution_count": 8,
   "metadata": {},
   "outputs": [
    {
     "data": {
      "text/plain": [
       "Index(['H_pm25', 'H_pm10', 'H_o3', 'H_no2', 'H_so2', 'H_co', 'D_pm25',\n",
       "       'D_pm10', 'D_o3', 'D_no2', 'D_so2', 'D_co', 'P_pm25', 'P_pm10', 'P_o3',\n",
       "       'P_no2', 'P_so2', 'P_co'],\n",
       "      dtype='object')"
      ]
     },
     "execution_count": 8,
     "metadata": {},
     "output_type": "execute_result"
    }
   ],
   "source": [
    "dataset.columns"
   ]
  },
  {
   "cell_type": "code",
   "execution_count": 9,
   "metadata": {},
   "outputs": [],
   "source": [
    "# X=dataset(['H_pm25','H_pm10','H_o3','H_no2','H_co','D_pm10','D_o3','D_no2','D_so2','D_co']).values\n",
    "# y=dataset(['D_pm25']).values"
   ]
  },
  {
   "cell_type": "code",
   "execution_count": 10,
   "metadata": {},
   "outputs": [],
   "source": [
    "\n",
    "X=dataset.iloc[:,[0,2,3,4,5]].values\n",
    "y=dataset.iloc[:,6].values"
   ]
  },
  {
   "cell_type": "code",
   "execution_count": 11,
   "metadata": {},
   "outputs": [
    {
     "data": {
      "text/plain": [
       "(364, 5)"
      ]
     },
     "execution_count": 11,
     "metadata": {},
     "output_type": "execute_result"
    }
   ],
   "source": [
    "X.shape"
   ]
  },
  {
   "cell_type": "code",
   "execution_count": 12,
   "metadata": {},
   "outputs": [
    {
     "data": {
      "text/plain": [
       "(364,)"
      ]
     },
     "execution_count": 12,
     "metadata": {},
     "output_type": "execute_result"
    }
   ],
   "source": [
    "y.shape"
   ]
  },
  {
   "cell_type": "code",
   "execution_count": 13,
   "metadata": {},
   "outputs": [],
   "source": [
    "corrMatrix = dataset.corr()"
   ]
  },
  {
   "cell_type": "code",
   "execution_count": 14,
   "metadata": {},
   "outputs": [
    {
     "data": {
      "text/html": [
       "<div>\n",
       "<style scoped>\n",
       "    .dataframe tbody tr th:only-of-type {\n",
       "        vertical-align: middle;\n",
       "    }\n",
       "\n",
       "    .dataframe tbody tr th {\n",
       "        vertical-align: top;\n",
       "    }\n",
       "\n",
       "    .dataframe thead th {\n",
       "        text-align: right;\n",
       "    }\n",
       "</style>\n",
       "<table border=\"1\" class=\"dataframe\">\n",
       "  <thead>\n",
       "    <tr style=\"text-align: right;\">\n",
       "      <th></th>\n",
       "      <th>H_pm25</th>\n",
       "      <th>H_pm10</th>\n",
       "      <th>H_o3</th>\n",
       "      <th>H_no2</th>\n",
       "      <th>H_so2</th>\n",
       "      <th>H_co</th>\n",
       "      <th>D_pm25</th>\n",
       "      <th>D_pm10</th>\n",
       "      <th>D_o3</th>\n",
       "      <th>D_no2</th>\n",
       "      <th>D_so2</th>\n",
       "      <th>D_co</th>\n",
       "      <th>P_pm25</th>\n",
       "      <th>P_pm10</th>\n",
       "      <th>P_o3</th>\n",
       "      <th>P_no2</th>\n",
       "      <th>P_so2</th>\n",
       "      <th>P_co</th>\n",
       "    </tr>\n",
       "  </thead>\n",
       "  <tbody>\n",
       "    <tr>\n",
       "      <th>H_pm25</th>\n",
       "      <td>1.000000</td>\n",
       "      <td>-0.189416</td>\n",
       "      <td>0.209298</td>\n",
       "      <td>0.497835</td>\n",
       "      <td>0.081708</td>\n",
       "      <td>0.648616</td>\n",
       "      <td>0.393188</td>\n",
       "      <td>0.696346</td>\n",
       "      <td>0.124296</td>\n",
       "      <td>0.521863</td>\n",
       "      <td>0.435004</td>\n",
       "      <td>0.548997</td>\n",
       "      <td>0.065814</td>\n",
       "      <td>0.099075</td>\n",
       "      <td>-0.196833</td>\n",
       "      <td>-0.098863</td>\n",
       "      <td>-0.142528</td>\n",
       "      <td>-0.051249</td>\n",
       "    </tr>\n",
       "    <tr>\n",
       "      <th>H_pm10</th>\n",
       "      <td>-0.189416</td>\n",
       "      <td>1.000000</td>\n",
       "      <td>-0.270271</td>\n",
       "      <td>-0.287476</td>\n",
       "      <td>-0.135481</td>\n",
       "      <td>-0.251858</td>\n",
       "      <td>0.160663</td>\n",
       "      <td>0.136298</td>\n",
       "      <td>-0.050650</td>\n",
       "      <td>0.058507</td>\n",
       "      <td>-0.441661</td>\n",
       "      <td>-0.018564</td>\n",
       "      <td>0.745779</td>\n",
       "      <td>1.000000</td>\n",
       "      <td>-0.006306</td>\n",
       "      <td>0.031777</td>\n",
       "      <td>-0.028662</td>\n",
       "      <td>0.501771</td>\n",
       "    </tr>\n",
       "    <tr>\n",
       "      <th>H_o3</th>\n",
       "      <td>0.209298</td>\n",
       "      <td>-0.270271</td>\n",
       "      <td>1.000000</td>\n",
       "      <td>0.041158</td>\n",
       "      <td>0.167545</td>\n",
       "      <td>0.413399</td>\n",
       "      <td>0.118711</td>\n",
       "      <td>0.064570</td>\n",
       "      <td>-0.023367</td>\n",
       "      <td>-0.149852</td>\n",
       "      <td>-0.123491</td>\n",
       "      <td>-0.048779</td>\n",
       "      <td>0.336466</td>\n",
       "      <td>0.342580</td>\n",
       "      <td>0.432401</td>\n",
       "      <td>0.557923</td>\n",
       "      <td>-0.106931</td>\n",
       "      <td>-0.136180</td>\n",
       "    </tr>\n",
       "    <tr>\n",
       "      <th>H_no2</th>\n",
       "      <td>0.497835</td>\n",
       "      <td>-0.287476</td>\n",
       "      <td>0.041158</td>\n",
       "      <td>1.000000</td>\n",
       "      <td>0.136147</td>\n",
       "      <td>0.449415</td>\n",
       "      <td>0.174394</td>\n",
       "      <td>0.542788</td>\n",
       "      <td>0.158093</td>\n",
       "      <td>0.550341</td>\n",
       "      <td>0.671777</td>\n",
       "      <td>0.434679</td>\n",
       "      <td>-0.334319</td>\n",
       "      <td>-0.265709</td>\n",
       "      <td>-0.219078</td>\n",
       "      <td>-0.152230</td>\n",
       "      <td>0.010280</td>\n",
       "      <td>-0.053676</td>\n",
       "    </tr>\n",
       "    <tr>\n",
       "      <th>H_so2</th>\n",
       "      <td>0.081708</td>\n",
       "      <td>-0.135481</td>\n",
       "      <td>0.167545</td>\n",
       "      <td>0.136147</td>\n",
       "      <td>1.000000</td>\n",
       "      <td>0.189726</td>\n",
       "      <td>0.004351</td>\n",
       "      <td>0.085270</td>\n",
       "      <td>-0.012847</td>\n",
       "      <td>0.035940</td>\n",
       "      <td>0.103173</td>\n",
       "      <td>0.099400</td>\n",
       "      <td>0.066887</td>\n",
       "      <td>0.066172</td>\n",
       "      <td>-0.116939</td>\n",
       "      <td>0.263192</td>\n",
       "      <td>0.728981</td>\n",
       "      <td>0.004935</td>\n",
       "    </tr>\n",
       "    <tr>\n",
       "      <th>H_co</th>\n",
       "      <td>0.648616</td>\n",
       "      <td>-0.251858</td>\n",
       "      <td>0.413399</td>\n",
       "      <td>0.449415</td>\n",
       "      <td>0.189726</td>\n",
       "      <td>1.000000</td>\n",
       "      <td>0.332225</td>\n",
       "      <td>0.546979</td>\n",
       "      <td>0.130433</td>\n",
       "      <td>0.391885</td>\n",
       "      <td>0.303662</td>\n",
       "      <td>0.501690</td>\n",
       "      <td>0.066280</td>\n",
       "      <td>0.114395</td>\n",
       "      <td>-0.038633</td>\n",
       "      <td>0.140876</td>\n",
       "      <td>-0.054546</td>\n",
       "      <td>-0.045022</td>\n",
       "    </tr>\n",
       "    <tr>\n",
       "      <th>D_pm25</th>\n",
       "      <td>0.393188</td>\n",
       "      <td>0.160663</td>\n",
       "      <td>0.118711</td>\n",
       "      <td>0.174394</td>\n",
       "      <td>0.004351</td>\n",
       "      <td>0.332225</td>\n",
       "      <td>1.000000</td>\n",
       "      <td>0.533069</td>\n",
       "      <td>0.029518</td>\n",
       "      <td>0.301872</td>\n",
       "      <td>0.034669</td>\n",
       "      <td>0.424096</td>\n",
       "      <td>0.177615</td>\n",
       "      <td>0.162191</td>\n",
       "      <td>0.078223</td>\n",
       "      <td>-0.002754</td>\n",
       "      <td>-0.050830</td>\n",
       "      <td>0.127688</td>\n",
       "    </tr>\n",
       "    <tr>\n",
       "      <th>D_pm10</th>\n",
       "      <td>0.696346</td>\n",
       "      <td>0.136298</td>\n",
       "      <td>0.064570</td>\n",
       "      <td>0.542788</td>\n",
       "      <td>0.085270</td>\n",
       "      <td>0.546979</td>\n",
       "      <td>0.533069</td>\n",
       "      <td>1.000000</td>\n",
       "      <td>0.174466</td>\n",
       "      <td>0.664093</td>\n",
       "      <td>0.414140</td>\n",
       "      <td>0.720937</td>\n",
       "      <td>0.090147</td>\n",
       "      <td>0.114931</td>\n",
       "      <td>-0.195638</td>\n",
       "      <td>-0.196968</td>\n",
       "      <td>-0.046406</td>\n",
       "      <td>0.166843</td>\n",
       "    </tr>\n",
       "    <tr>\n",
       "      <th>D_o3</th>\n",
       "      <td>0.124296</td>\n",
       "      <td>-0.050650</td>\n",
       "      <td>-0.023367</td>\n",
       "      <td>0.158093</td>\n",
       "      <td>-0.012847</td>\n",
       "      <td>0.130433</td>\n",
       "      <td>0.029518</td>\n",
       "      <td>0.174466</td>\n",
       "      <td>1.000000</td>\n",
       "      <td>0.343722</td>\n",
       "      <td>0.363588</td>\n",
       "      <td>0.296963</td>\n",
       "      <td>-0.140823</td>\n",
       "      <td>-0.200230</td>\n",
       "      <td>-0.098051</td>\n",
       "      <td>-0.184716</td>\n",
       "      <td>-0.027751</td>\n",
       "      <td>0.022037</td>\n",
       "    </tr>\n",
       "    <tr>\n",
       "      <th>D_no2</th>\n",
       "      <td>0.521863</td>\n",
       "      <td>0.058507</td>\n",
       "      <td>-0.149852</td>\n",
       "      <td>0.550341</td>\n",
       "      <td>0.035940</td>\n",
       "      <td>0.391885</td>\n",
       "      <td>0.301872</td>\n",
       "      <td>0.664093</td>\n",
       "      <td>0.343722</td>\n",
       "      <td>1.000000</td>\n",
       "      <td>0.522525</td>\n",
       "      <td>0.687663</td>\n",
       "      <td>-0.210839</td>\n",
       "      <td>-0.180101</td>\n",
       "      <td>-0.403692</td>\n",
       "      <td>-0.395278</td>\n",
       "      <td>-0.014209</td>\n",
       "      <td>0.099897</td>\n",
       "    </tr>\n",
       "    <tr>\n",
       "      <th>D_so2</th>\n",
       "      <td>0.435004</td>\n",
       "      <td>-0.441661</td>\n",
       "      <td>-0.123491</td>\n",
       "      <td>0.671777</td>\n",
       "      <td>0.103173</td>\n",
       "      <td>0.303662</td>\n",
       "      <td>0.034669</td>\n",
       "      <td>0.414140</td>\n",
       "      <td>0.363588</td>\n",
       "      <td>0.522525</td>\n",
       "      <td>1.000000</td>\n",
       "      <td>0.426727</td>\n",
       "      <td>-0.486090</td>\n",
       "      <td>-0.425222</td>\n",
       "      <td>-0.332123</td>\n",
       "      <td>-0.383284</td>\n",
       "      <td>0.011729</td>\n",
       "      <td>-0.100533</td>\n",
       "    </tr>\n",
       "    <tr>\n",
       "      <th>D_co</th>\n",
       "      <td>0.548997</td>\n",
       "      <td>-0.018564</td>\n",
       "      <td>-0.048779</td>\n",
       "      <td>0.434679</td>\n",
       "      <td>0.099400</td>\n",
       "      <td>0.501690</td>\n",
       "      <td>0.424096</td>\n",
       "      <td>0.720937</td>\n",
       "      <td>0.296963</td>\n",
       "      <td>0.687663</td>\n",
       "      <td>0.426727</td>\n",
       "      <td>1.000000</td>\n",
       "      <td>-0.140342</td>\n",
       "      <td>-0.107409</td>\n",
       "      <td>-0.254866</td>\n",
       "      <td>-0.283252</td>\n",
       "      <td>-0.016201</td>\n",
       "      <td>0.060793</td>\n",
       "    </tr>\n",
       "    <tr>\n",
       "      <th>P_pm25</th>\n",
       "      <td>0.065814</td>\n",
       "      <td>0.745779</td>\n",
       "      <td>0.336466</td>\n",
       "      <td>-0.334319</td>\n",
       "      <td>0.066887</td>\n",
       "      <td>0.066280</td>\n",
       "      <td>0.177615</td>\n",
       "      <td>0.090147</td>\n",
       "      <td>-0.140823</td>\n",
       "      <td>-0.210839</td>\n",
       "      <td>-0.486090</td>\n",
       "      <td>-0.140342</td>\n",
       "      <td>1.000000</td>\n",
       "      <td>0.769794</td>\n",
       "      <td>0.234495</td>\n",
       "      <td>0.471247</td>\n",
       "      <td>0.017879</td>\n",
       "      <td>0.133027</td>\n",
       "    </tr>\n",
       "    <tr>\n",
       "      <th>P_pm10</th>\n",
       "      <td>0.099075</td>\n",
       "      <td>1.000000</td>\n",
       "      <td>0.342580</td>\n",
       "      <td>-0.265709</td>\n",
       "      <td>0.066172</td>\n",
       "      <td>0.114395</td>\n",
       "      <td>0.162191</td>\n",
       "      <td>0.114931</td>\n",
       "      <td>-0.200230</td>\n",
       "      <td>-0.180101</td>\n",
       "      <td>-0.425222</td>\n",
       "      <td>-0.107409</td>\n",
       "      <td>0.769794</td>\n",
       "      <td>1.000000</td>\n",
       "      <td>0.188298</td>\n",
       "      <td>0.383304</td>\n",
       "      <td>0.002403</td>\n",
       "      <td>0.225977</td>\n",
       "    </tr>\n",
       "    <tr>\n",
       "      <th>P_o3</th>\n",
       "      <td>-0.196833</td>\n",
       "      <td>-0.006306</td>\n",
       "      <td>0.432401</td>\n",
       "      <td>-0.219078</td>\n",
       "      <td>-0.116939</td>\n",
       "      <td>-0.038633</td>\n",
       "      <td>0.078223</td>\n",
       "      <td>-0.195638</td>\n",
       "      <td>-0.098051</td>\n",
       "      <td>-0.403692</td>\n",
       "      <td>-0.332123</td>\n",
       "      <td>-0.254866</td>\n",
       "      <td>0.234495</td>\n",
       "      <td>0.188298</td>\n",
       "      <td>1.000000</td>\n",
       "      <td>0.408458</td>\n",
       "      <td>-0.112096</td>\n",
       "      <td>-0.116291</td>\n",
       "    </tr>\n",
       "    <tr>\n",
       "      <th>P_no2</th>\n",
       "      <td>-0.098863</td>\n",
       "      <td>0.031777</td>\n",
       "      <td>0.557923</td>\n",
       "      <td>-0.152230</td>\n",
       "      <td>0.263192</td>\n",
       "      <td>0.140876</td>\n",
       "      <td>-0.002754</td>\n",
       "      <td>-0.196968</td>\n",
       "      <td>-0.184716</td>\n",
       "      <td>-0.395278</td>\n",
       "      <td>-0.383284</td>\n",
       "      <td>-0.283252</td>\n",
       "      <td>0.471247</td>\n",
       "      <td>0.383304</td>\n",
       "      <td>0.408458</td>\n",
       "      <td>1.000000</td>\n",
       "      <td>0.080439</td>\n",
       "      <td>-0.061126</td>\n",
       "    </tr>\n",
       "    <tr>\n",
       "      <th>P_so2</th>\n",
       "      <td>-0.142528</td>\n",
       "      <td>-0.028662</td>\n",
       "      <td>-0.106931</td>\n",
       "      <td>0.010280</td>\n",
       "      <td>0.728981</td>\n",
       "      <td>-0.054546</td>\n",
       "      <td>-0.050830</td>\n",
       "      <td>-0.046406</td>\n",
       "      <td>-0.027751</td>\n",
       "      <td>-0.014209</td>\n",
       "      <td>0.011729</td>\n",
       "      <td>-0.016201</td>\n",
       "      <td>0.017879</td>\n",
       "      <td>0.002403</td>\n",
       "      <td>-0.112096</td>\n",
       "      <td>0.080439</td>\n",
       "      <td>1.000000</td>\n",
       "      <td>0.062038</td>\n",
       "    </tr>\n",
       "    <tr>\n",
       "      <th>P_co</th>\n",
       "      <td>-0.051249</td>\n",
       "      <td>0.501771</td>\n",
       "      <td>-0.136180</td>\n",
       "      <td>-0.053676</td>\n",
       "      <td>0.004935</td>\n",
       "      <td>-0.045022</td>\n",
       "      <td>0.127688</td>\n",
       "      <td>0.166843</td>\n",
       "      <td>0.022037</td>\n",
       "      <td>0.099897</td>\n",
       "      <td>-0.100533</td>\n",
       "      <td>0.060793</td>\n",
       "      <td>0.133027</td>\n",
       "      <td>0.225977</td>\n",
       "      <td>-0.116291</td>\n",
       "      <td>-0.061126</td>\n",
       "      <td>0.062038</td>\n",
       "      <td>1.000000</td>\n",
       "    </tr>\n",
       "  </tbody>\n",
       "</table>\n",
       "</div>"
      ],
      "text/plain": [
       "          H_pm25    H_pm10      H_o3     H_no2     H_so2      H_co    D_pm25  \\\n",
       "H_pm25  1.000000 -0.189416  0.209298  0.497835  0.081708  0.648616  0.393188   \n",
       "H_pm10 -0.189416  1.000000 -0.270271 -0.287476 -0.135481 -0.251858  0.160663   \n",
       "H_o3    0.209298 -0.270271  1.000000  0.041158  0.167545  0.413399  0.118711   \n",
       "H_no2   0.497835 -0.287476  0.041158  1.000000  0.136147  0.449415  0.174394   \n",
       "H_so2   0.081708 -0.135481  0.167545  0.136147  1.000000  0.189726  0.004351   \n",
       "H_co    0.648616 -0.251858  0.413399  0.449415  0.189726  1.000000  0.332225   \n",
       "D_pm25  0.393188  0.160663  0.118711  0.174394  0.004351  0.332225  1.000000   \n",
       "D_pm10  0.696346  0.136298  0.064570  0.542788  0.085270  0.546979  0.533069   \n",
       "D_o3    0.124296 -0.050650 -0.023367  0.158093 -0.012847  0.130433  0.029518   \n",
       "D_no2   0.521863  0.058507 -0.149852  0.550341  0.035940  0.391885  0.301872   \n",
       "D_so2   0.435004 -0.441661 -0.123491  0.671777  0.103173  0.303662  0.034669   \n",
       "D_co    0.548997 -0.018564 -0.048779  0.434679  0.099400  0.501690  0.424096   \n",
       "P_pm25  0.065814  0.745779  0.336466 -0.334319  0.066887  0.066280  0.177615   \n",
       "P_pm10  0.099075  1.000000  0.342580 -0.265709  0.066172  0.114395  0.162191   \n",
       "P_o3   -0.196833 -0.006306  0.432401 -0.219078 -0.116939 -0.038633  0.078223   \n",
       "P_no2  -0.098863  0.031777  0.557923 -0.152230  0.263192  0.140876 -0.002754   \n",
       "P_so2  -0.142528 -0.028662 -0.106931  0.010280  0.728981 -0.054546 -0.050830   \n",
       "P_co   -0.051249  0.501771 -0.136180 -0.053676  0.004935 -0.045022  0.127688   \n",
       "\n",
       "          D_pm10      D_o3     D_no2     D_so2      D_co    P_pm25    P_pm10  \\\n",
       "H_pm25  0.696346  0.124296  0.521863  0.435004  0.548997  0.065814  0.099075   \n",
       "H_pm10  0.136298 -0.050650  0.058507 -0.441661 -0.018564  0.745779  1.000000   \n",
       "H_o3    0.064570 -0.023367 -0.149852 -0.123491 -0.048779  0.336466  0.342580   \n",
       "H_no2   0.542788  0.158093  0.550341  0.671777  0.434679 -0.334319 -0.265709   \n",
       "H_so2   0.085270 -0.012847  0.035940  0.103173  0.099400  0.066887  0.066172   \n",
       "H_co    0.546979  0.130433  0.391885  0.303662  0.501690  0.066280  0.114395   \n",
       "D_pm25  0.533069  0.029518  0.301872  0.034669  0.424096  0.177615  0.162191   \n",
       "D_pm10  1.000000  0.174466  0.664093  0.414140  0.720937  0.090147  0.114931   \n",
       "D_o3    0.174466  1.000000  0.343722  0.363588  0.296963 -0.140823 -0.200230   \n",
       "D_no2   0.664093  0.343722  1.000000  0.522525  0.687663 -0.210839 -0.180101   \n",
       "D_so2   0.414140  0.363588  0.522525  1.000000  0.426727 -0.486090 -0.425222   \n",
       "D_co    0.720937  0.296963  0.687663  0.426727  1.000000 -0.140342 -0.107409   \n",
       "P_pm25  0.090147 -0.140823 -0.210839 -0.486090 -0.140342  1.000000  0.769794   \n",
       "P_pm10  0.114931 -0.200230 -0.180101 -0.425222 -0.107409  0.769794  1.000000   \n",
       "P_o3   -0.195638 -0.098051 -0.403692 -0.332123 -0.254866  0.234495  0.188298   \n",
       "P_no2  -0.196968 -0.184716 -0.395278 -0.383284 -0.283252  0.471247  0.383304   \n",
       "P_so2  -0.046406 -0.027751 -0.014209  0.011729 -0.016201  0.017879  0.002403   \n",
       "P_co    0.166843  0.022037  0.099897 -0.100533  0.060793  0.133027  0.225977   \n",
       "\n",
       "            P_o3     P_no2     P_so2      P_co  \n",
       "H_pm25 -0.196833 -0.098863 -0.142528 -0.051249  \n",
       "H_pm10 -0.006306  0.031777 -0.028662  0.501771  \n",
       "H_o3    0.432401  0.557923 -0.106931 -0.136180  \n",
       "H_no2  -0.219078 -0.152230  0.010280 -0.053676  \n",
       "H_so2  -0.116939  0.263192  0.728981  0.004935  \n",
       "H_co   -0.038633  0.140876 -0.054546 -0.045022  \n",
       "D_pm25  0.078223 -0.002754 -0.050830  0.127688  \n",
       "D_pm10 -0.195638 -0.196968 -0.046406  0.166843  \n",
       "D_o3   -0.098051 -0.184716 -0.027751  0.022037  \n",
       "D_no2  -0.403692 -0.395278 -0.014209  0.099897  \n",
       "D_so2  -0.332123 -0.383284  0.011729 -0.100533  \n",
       "D_co   -0.254866 -0.283252 -0.016201  0.060793  \n",
       "P_pm25  0.234495  0.471247  0.017879  0.133027  \n",
       "P_pm10  0.188298  0.383304  0.002403  0.225977  \n",
       "P_o3    1.000000  0.408458 -0.112096 -0.116291  \n",
       "P_no2   0.408458  1.000000  0.080439 -0.061126  \n",
       "P_so2  -0.112096  0.080439  1.000000  0.062038  \n",
       "P_co   -0.116291 -0.061126  0.062038  1.000000  "
      ]
     },
     "execution_count": 14,
     "metadata": {},
     "output_type": "execute_result"
    }
   ],
   "source": [
    "corrMatrix"
   ]
  },
  {
   "cell_type": "code",
   "execution_count": 15,
   "metadata": {},
   "outputs": [],
   "source": [
    "from sklearn.model_selection import train_test_split\n",
    "\n",
    "X_train,X_test,y_train,y_test = train_test_split(X,y,test_size=.2,random_state=1)\n"
   ]
  },
  {
   "cell_type": "code",
   "execution_count": 16,
   "metadata": {},
   "outputs": [],
   "source": [
    "from sklearn.ensemble import RandomForestRegressor\n",
    "\n",
    "# regressor = RandomForestRegressor(n_estimators = 10000, random_state = 0)\n",
    "# regressor.fit(X_train, y_train)\n",
    "# y_pred = regressor.predict(X_test)"
   ]
  },
  {
   "cell_type": "code",
   "execution_count": 17,
   "metadata": {},
   "outputs": [],
   "source": [
    "\n",
    "from sklearn.ensemble import GradientBoostingRegressor\n",
    "from sklearn.ensemble import VotingRegressor\n",
    "from sklearn.neighbors import KNeighborsRegressor\n",
    "from sklearn.linear_model import LinearRegression\n",
    "\n",
    "\n",
    "reg1 = GradientBoostingRegressor(random_state=1, n_estimators=10)\n",
    "reg2 = RandomForestRegressor(random_state=1, n_estimators=10)\n",
    "# reg3 = Lasso(alpha=1.0)\n",
    "# reg4 = LinearRegression() \n",
    "reg5=KNeighborsRegressor(n_neighbors=2)\n",
    "ereg = VotingRegressor(estimators=[ ('rf', reg2),('kr',reg5)])\n",
    "ereg = ereg.fit(X, y)\n",
    "\n",
    "y_pred = ereg.predict(X_test)"
   ]
  },
  {
   "cell_type": "code",
   "execution_count": 18,
   "metadata": {},
   "outputs": [
    {
     "name": "stdout",
     "output_type": "stream",
     "text": [
      "Mean Absolute Error: 29.207579908675804\n",
      "Mean Squared Error: 2217.0344040334858\n",
      "Root Mean Squared Error: 47.08539480596383\n",
      "r ^2  0.841536982234278\n",
      "explained_variance_score 0.841783542099136\n",
      "max_error 142.45\n"
     ]
    }
   ],
   "source": [
    "from sklearn.metrics import r2_score\n",
    "from sklearn.metrics import explained_variance_score\n",
    "from sklearn.metrics import max_error\n",
    "\n",
    "\n",
    "\n",
    "print('Mean Absolute Error:', metrics.mean_absolute_error(y_test, y_pred))  \n",
    "print('Mean Squared Error:', metrics.mean_squared_error(y_test, y_pred))  \n",
    "print('Root Mean Squared Error:', np.sqrt(metrics.mean_squared_error(y_test, y_pred)))\n",
    "print('r ^2 ',r2_score(y_test, y_pred))\n",
    "# print('score',ereg.score(y_test, y_pred))\n",
    "print('explained_variance_score',explained_variance_score(y_test, y_pred))\n",
    "print('max_error',max_error(y_test, y_pred))"
   ]
  },
  {
   "cell_type": "code",
   "execution_count": null,
   "metadata": {},
   "outputs": [],
   "source": [
    "#on new dataset\n"
   ]
  },
  {
   "cell_type": "code",
   "execution_count": 19,
   "metadata": {},
   "outputs": [],
   "source": [
    "# data = pd.read_csv('pm_2.5_dataset(WAZIRPUR).csv')\n",
    "# data\n",
    "data = pd.read_csv('pm_2.5_dataset(WAZIRPUR).csv',index_col='date',parse_dates=True)\n"
   ]
  },
  {
   "cell_type": "code",
   "execution_count": 20,
   "metadata": {},
   "outputs": [
    {
     "data": {
      "text/plain": [
       "Index(['panipat pm 2.5', 'sirsa pm 2.5', 'Bhiwanipm 2.5', 'rohtak pm 2.5',\n",
       "       'patiala pm 2.5', 'ludhiana pm 2.5', 'kaithal pm 2.5', 'karnal pm 2.5',\n",
       "       'delhi_wazirpm2.5'],\n",
       "      dtype='object')"
      ]
     },
     "execution_count": 20,
     "metadata": {},
     "output_type": "execute_result"
    }
   ],
   "source": [
    "data.columns"
   ]
  },
  {
   "cell_type": "code",
   "execution_count": 21,
   "metadata": {},
   "outputs": [],
   "source": [
    "data = data.bfill()"
   ]
  },
  {
   "cell_type": "code",
   "execution_count": 22,
   "metadata": {},
   "outputs": [
    {
     "data": {
      "text/html": [
       "<div>\n",
       "<style scoped>\n",
       "    .dataframe tbody tr th:only-of-type {\n",
       "        vertical-align: middle;\n",
       "    }\n",
       "\n",
       "    .dataframe tbody tr th {\n",
       "        vertical-align: top;\n",
       "    }\n",
       "\n",
       "    .dataframe thead th {\n",
       "        text-align: right;\n",
       "    }\n",
       "</style>\n",
       "<table border=\"1\" class=\"dataframe\">\n",
       "  <thead>\n",
       "    <tr style=\"text-align: right;\">\n",
       "      <th></th>\n",
       "      <th>panipat pm 2.5</th>\n",
       "      <th>sirsa pm 2.5</th>\n",
       "      <th>Bhiwanipm 2.5</th>\n",
       "      <th>rohtak pm 2.5</th>\n",
       "      <th>patiala pm 2.5</th>\n",
       "      <th>ludhiana pm 2.5</th>\n",
       "      <th>kaithal pm 2.5</th>\n",
       "      <th>karnal pm 2.5</th>\n",
       "      <th>delhi_wazirpm2.5</th>\n",
       "    </tr>\n",
       "    <tr>\n",
       "      <th>date</th>\n",
       "      <th></th>\n",
       "      <th></th>\n",
       "      <th></th>\n",
       "      <th></th>\n",
       "      <th></th>\n",
       "      <th></th>\n",
       "      <th></th>\n",
       "      <th></th>\n",
       "      <th></th>\n",
       "    </tr>\n",
       "  </thead>\n",
       "  <tbody>\n",
       "    <tr>\n",
       "      <th>2019-10-01</th>\n",
       "      <td>108</td>\n",
       "      <td>112</td>\n",
       "      <td>104</td>\n",
       "      <td>67</td>\n",
       "      <td>108</td>\n",
       "      <td>79</td>\n",
       "      <td>99</td>\n",
       "      <td>133.0</td>\n",
       "      <td>120.0</td>\n",
       "    </tr>\n",
       "    <tr>\n",
       "      <th>2019-10-02</th>\n",
       "      <td>128</td>\n",
       "      <td>155</td>\n",
       "      <td>115</td>\n",
       "      <td>106</td>\n",
       "      <td>80</td>\n",
       "      <td>120</td>\n",
       "      <td>87</td>\n",
       "      <td>133.0</td>\n",
       "      <td>113.0</td>\n",
       "    </tr>\n",
       "    <tr>\n",
       "      <th>2019-10-03</th>\n",
       "      <td>158</td>\n",
       "      <td>149</td>\n",
       "      <td>150</td>\n",
       "      <td>118</td>\n",
       "      <td>119</td>\n",
       "      <td>105</td>\n",
       "      <td>109</td>\n",
       "      <td>167.0</td>\n",
       "      <td>154.0</td>\n",
       "    </tr>\n",
       "    <tr>\n",
       "      <th>2019-10-04</th>\n",
       "      <td>119</td>\n",
       "      <td>82</td>\n",
       "      <td>110</td>\n",
       "      <td>84</td>\n",
       "      <td>59</td>\n",
       "      <td>64</td>\n",
       "      <td>64</td>\n",
       "      <td>167.0</td>\n",
       "      <td>133.0</td>\n",
       "    </tr>\n",
       "    <tr>\n",
       "      <th>2019-10-05</th>\n",
       "      <td>145</td>\n",
       "      <td>138</td>\n",
       "      <td>122</td>\n",
       "      <td>81</td>\n",
       "      <td>66</td>\n",
       "      <td>84</td>\n",
       "      <td>62</td>\n",
       "      <td>135.0</td>\n",
       "      <td>119.0</td>\n",
       "    </tr>\n",
       "  </tbody>\n",
       "</table>\n",
       "</div>"
      ],
      "text/plain": [
       "            panipat pm 2.5  sirsa pm 2.5  Bhiwanipm 2.5  rohtak pm 2.5  \\\n",
       "date                                                                     \n",
       "2019-10-01             108           112            104             67   \n",
       "2019-10-02             128           155            115            106   \n",
       "2019-10-03             158           149            150            118   \n",
       "2019-10-04             119            82            110             84   \n",
       "2019-10-05             145           138            122             81   \n",
       "\n",
       "            patiala pm 2.5  ludhiana pm 2.5  kaithal pm 2.5  karnal pm 2.5  \\\n",
       "date                                                                         \n",
       "2019-10-01             108               79              99          133.0   \n",
       "2019-10-02              80              120              87          133.0   \n",
       "2019-10-03             119              105             109          167.0   \n",
       "2019-10-04              59               64              64          167.0   \n",
       "2019-10-05              66               84              62          135.0   \n",
       "\n",
       "            delhi_wazirpm2.5  \n",
       "date                          \n",
       "2019-10-01             120.0  \n",
       "2019-10-02             113.0  \n",
       "2019-10-03             154.0  \n",
       "2019-10-04             133.0  \n",
       "2019-10-05             119.0  "
      ]
     },
     "execution_count": 22,
     "metadata": {},
     "output_type": "execute_result"
    }
   ],
   "source": [
    "data.isnull().sum()\n",
    "data.head()"
   ]
  },
  {
   "cell_type": "code",
   "execution_count": 23,
   "metadata": {},
   "outputs": [],
   "source": [
    "X=data.iloc[:,[0,1,2,3,4,5,6,7]].values\n",
    "y=data.iloc[:,8].values"
   ]
  },
  {
   "cell_type": "code",
   "execution_count": 24,
   "metadata": {},
   "outputs": [
    {
     "data": {
      "text/plain": [
       "(198, 8)"
      ]
     },
     "execution_count": 24,
     "metadata": {},
     "output_type": "execute_result"
    }
   ],
   "source": [
    "X.shape"
   ]
  },
  {
   "cell_type": "code",
   "execution_count": 25,
   "metadata": {},
   "outputs": [
    {
     "data": {
      "text/plain": [
       "(198,)"
      ]
     },
     "execution_count": 25,
     "metadata": {},
     "output_type": "execute_result"
    }
   ],
   "source": [
    "y.shape"
   ]
  },
  {
   "cell_type": "code",
   "execution_count": 26,
   "metadata": {},
   "outputs": [],
   "source": [
    "X_train,X_test,y_train,y_test = train_test_split(X,y,test_size=.2,random_state=1)"
   ]
  },
  {
   "cell_type": "code",
   "execution_count": 27,
   "metadata": {},
   "outputs": [],
   "source": [
    "reg1 = GradientBoostingRegressor(random_state=1, n_estimators=10)\n",
    "reg2 = RandomForestRegressor(random_state=1, n_estimators=10)\n",
    "\n",
    "# reg3 = Lasso(alpha=1.0)\n",
    "reg4 = LinearRegression() \n",
    "reg5=KNeighborsRegressor(n_neighbors=2)\n",
    "ereg = VotingRegressor(estimators=[ ('rf', reg2),('kr',reg5)])\n",
    "ereg = ereg.fit(X, y)\n",
    "\n",
    "y_pred = ereg.predict(X_test)"
   ]
  },
  {
   "cell_type": "code",
   "execution_count": 2,
   "metadata": {},
   "outputs": [
    {
     "ename": "NameError",
     "evalue": "name 'pd' is not defined",
     "output_type": "error",
     "traceback": [
      "\u001b[0;31m---------------------------------------------------------------------------\u001b[0m",
      "\u001b[0;31mNameError\u001b[0m                                 Traceback (most recent call last)",
      "\u001b[0;32m<ipython-input-2-6b2ffb9cb407>\u001b[0m in \u001b[0;36m<module>\u001b[0;34m\u001b[0m\n\u001b[0;32m----> 1\u001b[0;31m \u001b[0mdf\u001b[0m \u001b[0;34m=\u001b[0m \u001b[0mpd\u001b[0m\u001b[0;34m.\u001b[0m\u001b[0mDataFrame\u001b[0m\u001b[0;34m(\u001b[0m\u001b[0;34m{\u001b[0m\u001b[0;34m'Actual'\u001b[0m\u001b[0;34m:\u001b[0m \u001b[0my_test\u001b[0m\u001b[0;34m.\u001b[0m\u001b[0mflatten\u001b[0m\u001b[0;34m(\u001b[0m\u001b[0;34m)\u001b[0m\u001b[0;34m,\u001b[0m \u001b[0;34m'Predicted'\u001b[0m\u001b[0;34m:\u001b[0m \u001b[0my_pred\u001b[0m\u001b[0;34m.\u001b[0m\u001b[0mflatten\u001b[0m\u001b[0;34m(\u001b[0m\u001b[0;34m)\u001b[0m\u001b[0;34m}\u001b[0m\u001b[0;34m)\u001b[0m\u001b[0;34m\u001b[0m\u001b[0;34m\u001b[0m\u001b[0m\n\u001b[0m\u001b[1;32m      2\u001b[0m \u001b[0mprint\u001b[0m\u001b[0;34m(\u001b[0m\u001b[0mdf\u001b[0m\u001b[0;34m)\u001b[0m\u001b[0;34m\u001b[0m\u001b[0;34m\u001b[0m\u001b[0m\n\u001b[1;32m      3\u001b[0m \u001b[0;34m\u001b[0m\u001b[0m\n\u001b[1;32m      4\u001b[0m \u001b[0mdf1\u001b[0m \u001b[0;34m=\u001b[0m \u001b[0mdf\u001b[0m\u001b[0;34m.\u001b[0m\u001b[0mtail\u001b[0m\u001b[0;34m(\u001b[0m\u001b[0;36m198\u001b[0m\u001b[0;34m)\u001b[0m\u001b[0;34m\u001b[0m\u001b[0;34m\u001b[0m\u001b[0m\n\u001b[1;32m      5\u001b[0m \u001b[0mdf1\u001b[0m\u001b[0;34m.\u001b[0m\u001b[0mplot\u001b[0m\u001b[0;34m(\u001b[0m\u001b[0mkind\u001b[0m\u001b[0;34m=\u001b[0m\u001b[0;34m'bar'\u001b[0m\u001b[0;34m,\u001b[0m\u001b[0mfigsize\u001b[0m\u001b[0;34m=\u001b[0m\u001b[0;34m(\u001b[0m\u001b[0;36m16\u001b[0m\u001b[0;34m,\u001b[0m\u001b[0;36m10\u001b[0m\u001b[0;34m)\u001b[0m\u001b[0;34m)\u001b[0m\u001b[0;34m\u001b[0m\u001b[0;34m\u001b[0m\u001b[0m\n",
      "\u001b[0;31mNameError\u001b[0m: name 'pd' is not defined"
     ]
    }
   ],
   "source": [
    "df = pd.DataFrame({'Actual': y_test.flatten(), 'Predicted': y_pred.flatten()})\n",
    "print(df)\n",
    "\n",
    "df1 = df.tail(198)\n",
    "df1.plot(kind='bar',figsize=(16,10))\n",
    "plt.grid(which='major', linestyle='-', linewidth='0.5', color='green')\n",
    "plt.grid(which='minor', linestyle=':', linewidth='0.5', color='black')\n",
    "plt.show()"
   ]
  },
  {
   "cell_type": "code",
   "execution_count": 29,
   "metadata": {
    "scrolled": true
   },
   "outputs": [
    {
     "name": "stdout",
     "output_type": "stream",
     "text": [
      "Mean Absolute Error: 13.2375\n",
      "Mean Squared Error: 360.53437500000007\n",
      "Root Mean Squared Error: 18.987742756841847\n",
      "r ^2  0.9703004032695067\n",
      "explained_variance_score 0.972127854046784\n",
      "max_error 47.94999999999999\n"
     ]
    }
   ],
   "source": [
    "\n",
    "print('Mean Absolute Error:', metrics.mean_absolute_error(y_test, y_pred))  \n",
    "print('Mean Squared Error:', metrics.mean_squared_error(y_test, y_pred))  \n",
    "print('Root Mean Squared Error:', np.sqrt(metrics.mean_squared_error(y_test, y_pred)))\n",
    "print('r ^2 ',r2_score(y_test, y_pred))\n",
    "# print('score',ereg.score(y_test, y_pred))\n",
    "print('explained_variance_score',explained_variance_score(y_test, y_pred))\n",
    "print('max_error',max_error(y_test, y_pred))"
   ]
  },
  {
   "cell_type": "code",
   "execution_count": null,
   "metadata": {},
   "outputs": [],
   "source": [
    "#using RandomForestRegressor"
   ]
  },
  {
   "cell_type": "code",
   "execution_count": 30,
   "metadata": {},
   "outputs": [],
   "source": [
    "regressor = RandomForestRegressor(n_estimators = 10000, random_state = 0)\n",
    "regressor.fit(X_train, y_train)\n",
    "y_pred = regressor.predict(X_test)\n",
    "\n"
   ]
  },
  {
   "cell_type": "code",
   "execution_count": 31,
   "metadata": {},
   "outputs": [
    {
     "name": "stdout",
     "output_type": "stream",
     "text": [
      "Mean Absolute Error: 20.446939999999998\n",
      "Mean Squared Error: 785.8271438925001\n",
      "Root Mean Squared Error: 28.03260858165897\n",
      "r ^2  0.9352662300966932\n",
      "explained_variance_score 0.9413253122447639\n",
      "max_error 83.3517\n"
     ]
    }
   ],
   "source": [
    "print('Mean Absolute Error:', metrics.mean_absolute_error(y_test, y_pred))  \n",
    "print('Mean Squared Error:', metrics.mean_squared_error(y_test, y_pred))  \n",
    "print('Root Mean Squared Error:', np.sqrt(metrics.mean_squared_error(y_test, y_pred)))\n",
    "print('r ^2 ',r2_score(y_test, y_pred))\n",
    "# print('score',ereg.score(y_test, y_pred))\n",
    "print('explained_variance_score',explained_variance_score(y_test, y_pred))\n",
    "print('max_error',max_error(y_test, y_pred))"
   ]
  },
  {
   "cell_type": "code",
   "execution_count": null,
   "metadata": {},
   "outputs": [],
   "source": [
    "#using svr"
   ]
  },
  {
   "cell_type": "code",
   "execution_count": 32,
   "metadata": {},
   "outputs": [],
   "source": [
    "from sklearn.svm import SVR\n",
    "regressor = SVR(kernel='rbf')\n",
    "regressor.fit(X_train,y_train)\n",
    "y_pred = regressor.predict(X_test)"
   ]
  },
  {
   "cell_type": "code",
   "execution_count": 33,
   "metadata": {},
   "outputs": [
    {
     "name": "stdout",
     "output_type": "stream",
     "text": [
      "Mean Absolute Error: 65.23929933492074\n",
      "Mean Squared Error: 11223.584892919367\n",
      "Root Mean Squared Error: 105.94142198837699\n",
      "r ^2  0.0754392138331843\n",
      "explained_variance_score 0.18298697687649923\n",
      "max_error 330.5994413096423\n"
     ]
    }
   ],
   "source": [
    "print('Mean Absolute Error:', metrics.mean_absolute_error(y_test, y_pred))  \n",
    "print('Mean Squared Error:', metrics.mean_squared_error(y_test, y_pred))  \n",
    "print('Root Mean Squared Error:', np.sqrt(metrics.mean_squared_error(y_test, y_pred)))\n",
    "print('r ^2 ',r2_score(y_test, y_pred))\n",
    "# print('score',ereg.score(y_test, y_pred))\n",
    "print('explained_variance_score',explained_variance_score(y_test, y_pred))\n",
    "print('max_error',max_error(y_test, y_pred))"
   ]
  },
  {
   "cell_type": "code",
   "execution_count": 34,
   "metadata": {},
   "outputs": [],
   "source": [
    "#usinf PolynomialFeatures"
   ]
  },
  {
   "cell_type": "code",
   "execution_count": 35,
   "metadata": {},
   "outputs": [
    {
     "name": "stdout",
     "output_type": "stream",
     "text": [
      "Mean Absolute Error: 38.079923725128175\n",
      "Mean Squared Error: 4036.5026245462104\n",
      "Root Mean Squared Error: 63.53347640847469\n",
      "r ^2  0.6674866296713036\n",
      "explained_variance_score 0.6756501532306518\n",
      "max_error 228.74432945251465\n"
     ]
    }
   ],
   "source": [
    "from sklearn.preprocessing import PolynomialFeatures\n",
    "poly_reg = PolynomialFeatures(degree = 2)\n",
    "X_poly = poly_reg.fit_transform(X_train)\n",
    "poly_reg.fit(X_poly, y_train)\n",
    "lin_reg_2 = LinearRegression()\n",
    "lin_reg_2.fit(X_poly, y_train)\n",
    "y_pred=lin_reg_2.predict(poly_reg.fit_transform(X_test))\n",
    "print('Mean Absolute Error:', metrics.mean_absolute_error(y_test, y_pred))  \n",
    "print('Mean Squared Error:', metrics.mean_squared_error(y_test, y_pred))  \n",
    "print('Root Mean Squared Error:', np.sqrt(metrics.mean_squared_error(y_test, y_pred)))\n",
    "print('r ^2 ',r2_score(y_test, y_pred))\n",
    "# print('score',ereg.score(y_test, y_pred))\n",
    "print('explained_variance_score',explained_variance_score(y_test, y_pred))\n",
    "print('max_error',max_error(y_test, y_pred))"
   ]
  },
  {
   "cell_type": "code",
   "execution_count": 36,
   "metadata": {},
   "outputs": [],
   "source": [
    "# using DecisionTreeRegressor"
   ]
  },
  {
   "cell_type": "code",
   "execution_count": 37,
   "metadata": {},
   "outputs": [
    {
     "name": "stdout",
     "output_type": "stream",
     "text": [
      "Mean Absolute Error: 25.925\n",
      "Mean Squared Error: 1098.425\n",
      "Root Mean Squared Error: 33.14249537979903\n",
      "r ^2  0.9095154809061077\n",
      "explained_variance_score 0.9139354489738476\n",
      "max_error 111.0\n"
     ]
    }
   ],
   "source": [
    "from sklearn.tree import DecisionTreeRegressor\n",
    "regressor = DecisionTreeRegressor(random_state = 0)\n",
    "regressor.fit(X_train, y_train)\n",
    "y_pred = regressor.predict(X_test)\n",
    "print('Mean Absolute Error:', metrics.mean_absolute_error(y_test, y_pred))  \n",
    "print('Mean Squared Error:', metrics.mean_squared_error(y_test, y_pred))  \n",
    "print('Root Mean Squared Error:', np.sqrt(metrics.mean_squared_error(y_test, y_pred)))\n",
    "print('r ^2 ',r2_score(y_test, y_pred))\n",
    "# print('score',ereg.score(y_test, y_pred))\n",
    "print('explained_variance_score',explained_variance_score(y_test, y_pred))\n",
    "print('max_error',max_error(y_test, y_pred))"
   ]
  },
  {
   "cell_type": "code",
   "execution_count": 38,
   "metadata": {},
   "outputs": [],
   "source": [
    "#using GradientBoostingRegressor"
   ]
  },
  {
   "cell_type": "code",
   "execution_count": 39,
   "metadata": {},
   "outputs": [
    {
     "name": "stdout",
     "output_type": "stream",
     "text": [
      "Mean Absolute Error: 24.45356914800586\n",
      "Mean Squared Error: 979.0504681668114\n",
      "Root Mean Squared Error: 31.289782168733794\n",
      "r ^2  0.9193491492084356\n",
      "explained_variance_score 0.9218757180868689\n",
      "max_error 90.88155172204853\n"
     ]
    }
   ],
   "source": [
    "from sklearn.ensemble import GradientBoostingRegressor\n",
    "est = GradientBoostingRegressor(n_estimators=100, learning_rate=0.1,max_depth=1, random_state=0, loss='ls').fit(X_train, y_train)\n",
    "# mean_squared_error(y_test, est.predict(X_test))\n",
    "y_pred = est.predict(X_test)\n",
    "print('Mean Absolute Error:', metrics.mean_absolute_error(y_test, y_pred))  \n",
    "print('Mean Squared Error:', metrics.mean_squared_error(y_test, y_pred))  \n",
    "print('Root Mean Squared Error:', np.sqrt(metrics.mean_squared_error(y_test, y_pred)))\n",
    "print('r ^2 ',r2_score(y_test, y_pred))\n",
    "# print('score',ereg.score(y_test, y_pred))\n",
    "print('explained_variance_score',explained_variance_score(y_test, y_pred))\n",
    "print('max_error',max_error(y_test, y_pred))"
   ]
  },
  {
   "cell_type": "code",
   "execution_count": 40,
   "metadata": {},
   "outputs": [],
   "source": [
    "#using Lasso"
   ]
  },
  {
   "cell_type": "code",
   "execution_count": 41,
   "metadata": {},
   "outputs": [
    {
     "name": "stdout",
     "output_type": "stream",
     "text": [
      "Mean Absolute Error: 26.69778975152743\n",
      "Mean Squared Error: 1356.7577817452507\n",
      "Root Mean Squared Error: 36.83419310566271\n",
      "r ^2  0.8882349041508385\n",
      "explained_variance_score 0.8965271038492405\n",
      "max_error 103.63648321727675\n"
     ]
    }
   ],
   "source": [
    "from sklearn.linear_model import Lasso\n",
    "lasso = Lasso(alpha=1.0)\n",
    "lasso .fit(X_train, y_train)\n",
    "y_pred =lasso.predict(X_test)\n",
    "print('Mean Absolute Error:', metrics.mean_absolute_error(y_test, y_pred))  \n",
    "print('Mean Squared Error:', metrics.mean_squared_error(y_test, y_pred))  \n",
    "print('Root Mean Squared Error:', np.sqrt(metrics.mean_squared_error(y_test, y_pred)))\n",
    "print('r ^2 ',r2_score(y_test, y_pred))\n",
    "# print('score',ereg.score(y_test, y_pred))\n",
    "print('explained_variance_score',explained_variance_score(y_test, y_pred))\n",
    "print('max_error',max_error(y_test, y_pred))"
   ]
  },
  {
   "cell_type": "code",
   "execution_count": null,
   "metadata": {},
   "outputs": [],
   "source": [
    "#using KNeighborsRegressor"
   ]
  },
  {
   "cell_type": "code",
   "execution_count": 42,
   "metadata": {},
   "outputs": [
    {
     "name": "stdout",
     "output_type": "stream",
     "text": [
      "Mean Absolute Error: 26.6625\n",
      "Mean Squared Error: 1558.85625\n",
      "Root Mean Squared Error: 39.48235365324616\n",
      "r ^2  0.871586719058872\n",
      "explained_variance_score 0.872384755262462\n",
      "max_error 139.5\n"
     ]
    }
   ],
   "source": [
    "from sklearn.neighbors import KNeighborsRegressor\n",
    "neigh = KNeighborsRegressor(n_neighbors=2)\n",
    "neigh.fit(X_train, y_train)\n",
    "y_pred =neigh.predict(X_test)\n",
    "print('Mean Absolute Error:', metrics.mean_absolute_error(y_test, y_pred))  \n",
    "print('Mean Squared Error:', metrics.mean_squared_error(y_test, y_pred))  \n",
    "print('Root Mean Squared Error:', np.sqrt(metrics.mean_squared_error(y_test, y_pred)))\n",
    "print('r ^2 ',r2_score(y_test, y_pred))\n",
    "# print('score',ereg.score(y_test, y_pred))\n",
    "print('explained_variance_score',explained_variance_score(y_test, y_pred))\n",
    "print('max_error',max_error(y_test, y_pred))"
   ]
  },
  {
   "cell_type": "code",
   "execution_count": null,
   "metadata": {},
   "outputs": [],
   "source": []
  }
 ],
 "metadata": {
  "kernelspec": {
   "display_name": "Python 3",
   "language": "python",
   "name": "python3"
  },
  "language_info": {
   "codemirror_mode": {
    "name": "ipython",
    "version": 3
   },
   "file_extension": ".py",
   "mimetype": "text/x-python",
   "name": "python",
   "nbconvert_exporter": "python",
   "pygments_lexer": "ipython3",
   "version": "3.7.7"
  }
 },
 "nbformat": 4,
 "nbformat_minor": 2
}
