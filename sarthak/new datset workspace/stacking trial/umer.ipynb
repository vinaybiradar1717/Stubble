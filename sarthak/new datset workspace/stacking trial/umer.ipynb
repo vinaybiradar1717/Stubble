{
 "cells": [
  {
   "cell_type": "code",
   "execution_count": 1,
   "metadata": {},
   "outputs": [],
   "source": [
    "import numpy as np # linear algebra\n",
    "import pandas as pd # data processing, CSV file I/O (e.g. pd.read_csv)\n",
    "%matplotlib inline\n",
    "import matplotlib.pyplot as plt  # Matlab-style plotting\n",
    "import seaborn as sns\n",
    "color = sns.color_palette()\n",
    "sns.set_style('darkgrid')\n",
    "import warnings\n"
   ]
  },
  {
   "cell_type": "code",
   "execution_count": 2,
   "metadata": {},
   "outputs": [],
   "source": [
    "from sklearn.linear_model import ElasticNet, Lasso,  BayesianRidge, LassoLarsIC\n",
    "from sklearn.ensemble import RandomForestRegressor,  GradientBoostingRegressor\n",
    "from sklearn.kernel_ridge import KernelRidge\n",
    "from sklearn.pipeline import make_pipeline\n",
    "from sklearn.preprocessing import RobustScaler\n",
    "from sklearn.base import BaseEstimator, TransformerMixin, RegressorMixin, clone\n",
    "from sklearn.model_selection import KFold, cross_val_score, train_test_split\n",
    "from sklearn.metrics import mean_squared_error\n",
    "import xgboost as xgb\n",
    "import lightgbm as lgb"
   ]
  },
  {
   "cell_type": "code",
   "execution_count": 3,
   "metadata": {},
   "outputs": [],
   "source": [
    "data = pd.read_csv('revisedDataset.csv',index_col ='date',parse_dates=True)\n",
    "\n",
    "data = data.bfill()\n",
    "\n",
    "X=data.iloc[:,0:-1].values\n",
    "y=data.iloc[:,-1].values\n",
    "\n",
    "X_train,X_test,y_train,y_test = train_test_split(X,y,test_size=.25,random_state=0)"
   ]
  },
  {
   "cell_type": "code",
   "execution_count": 4,
   "metadata": {},
   "outputs": [],
   "source": [
    "n_folds = 5\n",
    "\n",
    "def rmsle_cv(model):\n",
    "    kf = KFold(n_folds, shuffle=True, random_state=42).get_n_splits(X_train)\n",
    "    rmse= np.sqrt(-cross_val_score(model, X_train, y_train, scoring=\"neg_mean_squared_error\", cv = kf))\n",
    "    return(rmse)\n",
    "\n",
    "def rs_cv(model):\n",
    "    kf = KFold(n_folds, shuffle=True, random_state=42).get_n_splits(X_train)\n",
    "    rs =cross_val_score(model,X_train, y_train, cv = kf,scoring='r2')\n",
    "    return(rs)"
   ]
  },
  {
   "cell_type": "code",
   "execution_count": 5,
   "metadata": {},
   "outputs": [],
   "source": [
    "from sklearn.linear_model import LinearRegression \n",
    "\n",
    "lr = LinearRegression()\n",
    "score = rmsle_cv(lr)\n",
    "rsscore = rs_cv(lr)"
   ]
  },
  {
   "cell_type": "code",
   "execution_count": 6,
   "metadata": {},
   "outputs": [
    {
     "name": "stdout",
     "output_type": "stream",
     "text": [
      "[43.16764299 45.73403317 40.90564205 35.26022311 49.35832054]\n",
      "\n",
      "LR score: 42.8852 (4.7362)\n",
      "\n",
      "[0.82986474 0.69896737 0.66503611 0.92803996 0.74252228]\n",
      "\n",
      "LR score: 0.7729 (0.0952)\n",
      "\n"
     ]
    }
   ],
   "source": [
    "print(score)\n",
    "print(\"\\nLR score: {:.4f} ({:.4f})\\n\".format(score.mean(), score.std()))\n",
    "\n",
    "print(rsscore)\n",
    "print(\"\\nLR score: {:.4f} ({:.4f})\\n\".format(rsscore.mean(), rsscore.std()))\n",
    "\n"
   ]
  },
  {
   "cell_type": "code",
   "execution_count": 7,
   "metadata": {},
   "outputs": [
    {
     "name": "stdout",
     "output_type": "stream",
     "text": [
      "[42.10386364 46.28302064 36.40646463 31.3814573  52.61749742]\n",
      "\n",
      "RF score: 41.7585 (7.4140)\n",
      "\n",
      "[0.8381467  0.69169685 0.73466864 0.94300096 0.70739665]\n",
      "\n",
      "RF score: 0.7830 (0.0949)\n",
      "\n"
     ]
    }
   ],
   "source": [
    "#Random forest\n",
    "RF = RandomForestRegressor(random_state=1, n_estimators=10)\n",
    "score = rmsle_cv(RF)\n",
    "rsscore = rs_cv(RF)\n",
    "print(score)\n",
    "print(\"\\nRF score: {:.4f} ({:.4f})\\n\".format(score.mean(), score.std()))\n",
    "\n",
    "print(rsscore)\n",
    "print(\"\\nRF score: {:.4f} ({:.4f})\\n\".format(rsscore.mean(), rsscore.std()))"
   ]
  },
  {
   "cell_type": "code",
   "execution_count": 8,
   "metadata": {},
   "outputs": [
    {
     "name": "stdout",
     "output_type": "stream",
     "text": [
      "[45.31408905 44.80364568 29.53867521 36.09434477 46.39309179]\n",
      "\n",
      "KNN score: 40.4288 (6.5721)\n",
      "\n",
      "[0.81252465 0.71109087 0.8253319  0.92459509 0.77252926]\n",
      "\n",
      "KNN score: 0.8092 (0.0701)\n",
      "\n"
     ]
    }
   ],
   "source": [
    "from sklearn.neighbors import KNeighborsRegressor\n",
    "\n",
    "KNN =KNeighborsRegressor(n_neighbors=2)\n",
    "score = rmsle_cv(KNN)\n",
    "rsscore = rs_cv(KNN)\n",
    "print(score)\n",
    "print(\"\\nKNN score: {:.4f} ({:.4f})\\n\".format(score.mean(), score.std()))\n",
    "\n",
    "print(rsscore)\n",
    "print(\"\\nKNN score: {:.4f} ({:.4f})\\n\".format(rsscore.mean(), rsscore.std()))"
   ]
  },
  {
   "cell_type": "code",
   "execution_count": 9,
   "metadata": {},
   "outputs": [
    {
     "name": "stdout",
     "output_type": "stream",
     "text": [
      "[43.16756832 45.7333281  40.90531087 35.2588691  49.35756193]\n",
      "\n",
      "Lasso score: 42.8845 (4.7363)\n",
      "\n",
      "[0.82986533 0.69897665 0.66504153 0.92804548 0.74253019]\n",
      "\n",
      "Lasso score: 0.7729 (0.0952)\n",
      "\n"
     ]
    }
   ],
   "source": [
    "lasso = make_pipeline(RobustScaler(), Lasso(alpha =0.0005, random_state=1))\n",
    "score = rmsle_cv(lasso)\n",
    "rsscore = rs_cv(lasso)\n",
    "print(score)\n",
    "print(\"\\nLasso score: {:.4f} ({:.4f})\\n\".format(score.mean(), score.std()))\n",
    "\n",
    "print(rsscore)\n",
    "print(\"\\nLasso score: {:.4f} ({:.4f})\\n\".format(rsscore.mean(), rsscore.std()))"
   ]
  },
  {
   "cell_type": "code",
   "execution_count": 10,
   "metadata": {},
   "outputs": [
    {
     "name": "stdout",
     "output_type": "stream",
     "text": [
      "[43.16756832 45.7333281  40.90531087 35.2588691  49.35756193]\n",
      "\n",
      " Lasso score: 42.8845 (4.7363)\n",
      "\n",
      "[0.82986533 0.69897665 0.66504153 0.92804548 0.74253019]\n",
      "\n",
      " Lasso score: 0.7729 (0.0952)\n",
      "\n",
      "\n",
      "\n",
      "===============================\n",
      "[43.16461818 45.73040474 40.89754822 35.25215728 49.3546951 ]\n",
      "ElasticNet score: 42.8799 (4.7380)\n",
      "\n",
      "[0.82988858 0.69901514 0.66516865 0.92807288 0.7425601 ]\n",
      "\n",
      " ElasticNet score: 0.7729 (0.0952)\n",
      "\n",
      "\n",
      "\n",
      "===============================\n",
      "[ 71.28624038  71.47444878  41.39091229 285.96598565  98.32926881]\n",
      "Kernel Ridge score: 113.6894 (88.0027)\n",
      "\n",
      "[ 0.53603087  0.26474803  0.65704151 -3.73314765 -0.02184384]\n",
      "\n",
      "LR score: -0.4594 (1.6535)\n",
      "\n",
      "\n",
      "\n",
      "\n",
      "[34.99320061 43.13739816 29.49818181 34.18731506 44.08189542]\n",
      "Gradient Boosting score: 37.1796 (5.5835)\n",
      "\n",
      "[0.88819918 0.73218034 0.82581046 0.93235257 0.79462885]\n",
      "\n",
      " GBoostscore: 0.8346 (0.0701)\n",
      "\n",
      "\n",
      "\n",
      "===============================\n",
      "[29.58233801 37.1388725  25.5715011  29.3132471  39.10645117]\n",
      "Xgboost score: 32.1425 (5.1225)\n",
      "\n",
      "[0.92010076 0.80148561 0.86909868 0.95026649 0.83837233]\n",
      "\n",
      " Xgboost score: 0.8759 (0.0538)\n",
      "\n",
      "\n",
      "\n",
      "===============================\n",
      "[43.16764299 45.73403317 40.90564205 35.26022311 49.35832054]\n",
      "\n",
      " LR score: 42.8852 (4.7362)\n",
      "\n",
      "[0.82986474 0.69896737 0.66503611 0.92803996 0.74252228]\n",
      "\n",
      " LR score: 0.7729 (0.0952)\n",
      "\n",
      "\n",
      "\n",
      "===============================\n",
      "[36.40630545 42.4598738  31.83648122 30.59617854 49.82508263]\n",
      "\n",
      " random forest score: 38.2248 (7.1388)\n",
      "\n",
      "[0.87898732 0.74052713 0.79710017 0.94581792 0.73762952]\n",
      "\n",
      " random forest score: 0.8200 (0.0812)\n",
      "\n",
      "\n",
      "\n",
      "===============================\n",
      "[45.31408905 44.80364568 29.53867521 36.09434477 46.39309179]\n",
      "\n",
      " KNN score: 40.4288 (6.5721)\n",
      "\n",
      "[0.81252465 0.71109087 0.8253319  0.92459509 0.77252926]\n",
      "\n",
      " KNN score: 0.8092 (0.0701)\n",
      "\n",
      "\n",
      "\n",
      "===============================\n"
     ]
    }
   ],
   "source": [
    "\n",
    "#BASE MODELS\n",
    "lasso = make_pipeline(RobustScaler(), Lasso(alpha =0.0005, random_state=1))\n",
    "\n",
    "\n",
    "\n",
    "ENet = make_pipeline(RobustScaler(), ElasticNet(alpha=0.0005, l1_ratio=.9, random_state=3))\n",
    "\n",
    "\n",
    "\n",
    "KRR = KernelRidge(alpha=0.6, kernel='polynomial', degree=2, coef0=2.5)\n",
    "\n",
    "\n",
    "\n",
    "GBoost = GradientBoostingRegressor(n_estimators=3000, learning_rate=0.05,\n",
    "                                   max_depth=4, max_features='sqrt',\n",
    "                                   min_samples_leaf=15, min_samples_split=10, \n",
    "                                   loss='huber', random_state =5)\n",
    "\n",
    "\n",
    "\n",
    "model_xgb = xgb.XGBRegressor(colsample_bytree=0.4603, gamma=0.0468, \n",
    "                             learning_rate=0.05, max_depth=3, \n",
    "                             min_child_weight=1.7817, n_estimators=2200,\n",
    "                             reg_alpha=0.4640, reg_lambda=0.8571,\n",
    "                             subsample=0.5213, silent=1,\n",
    "                             random_state =7, nthread = -1)\n",
    "\n",
    "\n",
    "\n",
    "model_lgb = lgb.LGBMRegressor(objective='regression',num_leaves=5,\n",
    "                              learning_rate=0.05, n_estimators=720,\n",
    "                              max_bin = 55, bagging_fraction = 0.8,\n",
    "                              bagging_freq = 5, feature_fraction = 0.2319,\n",
    "                              feature_fraction_seed=9, bagging_seed=9,\n",
    "                              min_data_in_leaf =6, min_sum_hessian_in_leaf = 11)\n",
    "\n",
    "lr = LinearRegression()\n",
    "\n",
    "RF = RandomForestRegressor(random_state=1, n_estimators=100)\n",
    "\n",
    "\n",
    "KNN =KNeighborsRegressor(n_neighbors=2)\n",
    "\n",
    "\n",
    "#BASE MODEL SCORES\n",
    "\n",
    "score = rmsle_cv(lasso)\n",
    "rsscore = rs_cv(lasso)\n",
    "print(score)\n",
    "print(\"\\n Lasso score: {:.4f} ({:.4f})\\n\".format(score.mean(), score.std()))\n",
    "print(rsscore)\n",
    "print(\"\\n Lasso score: {:.4f} ({:.4f})\\n\".format(rsscore.mean(), rsscore.std()))\n",
    "print(\"\\n\\n===============================\")\n",
    "\n",
    "score = rmsle_cv(ENet)\n",
    "rsscore = rs_cv(ENet)\n",
    "print(score)\n",
    "print(\"ElasticNet score: {:.4f} ({:.4f})\\n\".format(score.mean(), score.std()))\n",
    "print(rsscore)\n",
    "print(\"\\n ElasticNet score: {:.4f} ({:.4f})\\n\".format(rsscore.mean(), rsscore.std()))\n",
    "print(\"\\n\\n===============================\")\n",
    "\n",
    "score = rmsle_cv(KRR)\n",
    "rsscore = rs_cv(KRR)\n",
    "print(score)\n",
    "print(\"Kernel Ridge score: {:.4f} ({:.4f})\\n\".format(score.mean(), score.std()))\n",
    "print(rsscore)\n",
    "print(\"\\nLR score: {:.4f} ({:.4f})\\n\".format(rsscore.mean(), rsscore.std()))\n",
    "print(\"\\n\\n\")\n",
    "\n",
    "score = rmsle_cv(GBoost)\n",
    "rsscore = rs_cv(GBoost)\n",
    "print(score)\n",
    "print(\"Gradient Boosting score: {:.4f} ({:.4f})\\n\".format(score.mean(), score.std()))\n",
    "print(rsscore)\n",
    "print(\"\\n GBoostscore: {:.4f} ({:.4f})\\n\".format(rsscore.mean(), rsscore.std()))\n",
    "print(\"\\n\\n===============================\")\n",
    "\n",
    "score = rmsle_cv(model_xgb)\n",
    "rsscore = rs_cv(model_xgb)\n",
    "print(score)\n",
    "print(\"Xgboost score: {:.4f} ({:.4f})\\n\".format(score.mean(), score.std()))\n",
    "print(rsscore)\n",
    "print(\"\\n Xgboost score: {:.4f} ({:.4f})\\n\".format(rsscore.mean(), rsscore.std()))\n",
    "print(\"\\n\\n===============================\")\n",
    "\n",
    "\n",
    "\n",
    "score = rmsle_cv(lr)\n",
    "rsscore = rs_cv(lr)\n",
    "print(score)\n",
    "print(\"\\n LR score: {:.4f} ({:.4f})\\n\".format(score.mean(), score.std()))\n",
    "print(rsscore)\n",
    "print(\"\\n LR score: {:.4f} ({:.4f})\\n\".format(rsscore.mean(), rsscore.std()))\n",
    "print(\"\\n\\n===============================\")\n",
    "\n",
    "\n",
    "score = rmsle_cv(RF)\n",
    "rsscore = rs_cv(RF)\n",
    "print(score)\n",
    "print(\"\\n random forest score: {:.4f} ({:.4f})\\n\".format(score.mean(), score.std()))\n",
    "print(rsscore)\n",
    "print(\"\\n random forest score: {:.4f} ({:.4f})\\n\".format(rsscore.mean(), rsscore.std()))\n",
    "print(\"\\n\\n===============================\")\n",
    "\n",
    "score = rmsle_cv(KNN)\n",
    "rsscore = rs_cv(KNN)\n",
    "print(score)\n",
    "print(\"\\n KNN score: {:.4f} ({:.4f})\\n\".format(score.mean(), score.std()))\n",
    "print(rsscore)\n",
    "print(\"\\n KNN score: {:.4f} ({:.4f})\\n\".format(rsscore.mean(), rsscore.std()))\n",
    "print(\"\\n\\n===============================\")\n",
    "\n"
   ]
  },
  {
   "cell_type": "code",
   "execution_count": null,
   "metadata": {},
   "outputs": [],
   "source": []
  },
  {
   "cell_type": "code",
   "execution_count": null,
   "metadata": {},
   "outputs": [],
   "source": []
  },
  {
   "cell_type": "code",
   "execution_count": null,
   "metadata": {},
   "outputs": [],
   "source": []
  },
  {
   "cell_type": "code",
   "execution_count": null,
   "metadata": {},
   "outputs": [],
   "source": []
  },
  {
   "cell_type": "code",
   "execution_count": 11,
   "metadata": {},
   "outputs": [],
   "source": [
    "class StackingAveragedModels(BaseEstimator, RegressorMixin, TransformerMixin):\n",
    "    def __init__(self, base_models, meta_model, n_folds=5):\n",
    "        self.base_models = base_models\n",
    "#         print(self.base_models)\n",
    "        self.meta_model = meta_model\n",
    "#         print(self.meta_model)\n",
    "        self.n_folds = n_folds\n",
    "   \n",
    "    # We again fit the data on clones of the original models\n",
    "    def fit(self, X, y):\n",
    "#         print(self.base_models)\n",
    "        self.base_models_ = [list() for x in self.base_models]\n",
    "#         print(self.base_models_)\n",
    "        self.meta_model_ = clone(self.meta_model)\n",
    "#         print(self.meta_model_)\n",
    "        kfold = KFold(n_splits=self.n_folds, shuffle=True, random_state=156)\n",
    "#         print(kfold)\n",
    "        \n",
    "        # Train cloned base models then create out-of-fold predictions\n",
    "        # that are needed to train the cloned meta-model\n",
    "        out_of_fold_predictions = np.zeros((X.shape[0], len(self.base_models)))\n",
    "#         print(out_of_fold_predictions.shape)\n",
    "        for i, model in enumerate(self.base_models):\n",
    "#             print(i,model)\n",
    "            for train_index, holdout_index in kfold.split(X,y):\n",
    "#                 print(len(train_index), len(holdout_index))\n",
    "                instance = clone(model)\n",
    "#                 print(instance)\n",
    "                self.base_models_[i].append(instance)\n",
    "#                 print(self.base_models_[i])\n",
    "#                 print(X[train_index], y[train_index])\n",
    "                instance.fit(X[train_index], y[train_index])\n",
    "                y_pred = instance.predict(X[holdout_index])\n",
    "#                 print(y_pred,y[holdout_index])\n",
    "                out_of_fold_predictions[holdout_index, i] = y_pred\n",
    "#                 print(out_of_fold_predictions.shape)\n",
    "                \n",
    "        # Now train the cloned  meta-model using the out-of-fold predictions as new feature\n",
    "        self.meta_model_.fit(out_of_fold_predictions, y)\n",
    "#         print(self.meta_model_)\n",
    "        return self\n",
    "   \n",
    "    #Do the predictions of all base models on the test data and use the averaged predictions as \n",
    "    #meta-features for the final prediction which is done by the meta-model\n",
    "    def predict(self, X):\n",
    "        meta_features = np.column_stack([np.column_stack([model.predict(X) for model in base_models]).mean(axis=1)\n",
    "            for base_models in self.base_models_ ])\n",
    "        print(meta_features.shape)\n",
    "        return self.meta_model_.predict(meta_features)"
   ]
  },
  {
   "cell_type": "code",
   "execution_count": 16,
   "metadata": {},
   "outputs": [],
   "source": [
    "stacked_averaged_models = StackingAveragedModels(base_models = (RF, KNN, GBoost),meta_model = model_xgb)"
   ]
  },
  {
   "cell_type": "code",
   "execution_count": 17,
   "metadata": {
    "scrolled": true
   },
   "outputs": [
    {
     "name": "stdout",
     "output_type": "stream",
     "text": [
      "(30, 3)\n",
      "(30, 3)\n",
      "(30, 3)\n",
      "(29, 3)\n",
      "(29, 3)\n",
      "Stacking Averaged models score: 41.6577 (3.3049)\n",
      "\n",
      "Staking r2 score: 0.7729 (0.0952)\n",
      "\n"
     ]
    }
   ],
   "source": [
    "score = rmsle_cv(stacked_averaged_models)\n",
    "print(\"Stacking Averaged models score: {:.4f} ({:.4f})\".format(score.mean() , score.std()))\n",
    "\n",
    "\n",
    "\n",
    "rsscore = rs_cv(lasso)\n",
    "\n",
    "print(\"\\nStaking r2 score: {:.4f} ({:.4f})\\n\".format(rsscore.mean(), rsscore.std()))\n",
    "\n",
    "\n",
    "\n",
    "\n"
   ]
  },
  {
   "cell_type": "code",
   "execution_count": 18,
   "metadata": {},
   "outputs": [
    {
     "name": "stdout",
     "output_type": "stream",
     "text": [
      "(148, 3)\n",
      "(50, 3)\n",
      "    Actual   Predicted\n",
      "0      161  172.236816\n",
      "1      154  148.393295\n",
      "2      248  215.723969\n",
      "3      145  143.323303\n",
      "4      441  435.199310\n",
      "5      272  311.685272\n",
      "6      119  143.317413\n",
      "7      105   96.993523\n",
      "8      217  184.063858\n",
      "9      135  103.837440\n",
      "10     194  155.098114\n",
      "11     191  139.380554\n",
      "12     162  187.374741\n",
      "13     109  132.080582\n",
      "14     142  129.902008\n",
      "15     122  134.555344\n",
      "16     828  389.213867\n",
      "17      98  110.661133\n",
      "18     257  204.096329\n",
      "19     111  153.840500\n",
      "20     137  124.045937\n",
      "21     143   99.287544\n",
      "22     420  367.074646\n",
      "23     134  142.843140\n",
      "24      99   67.369446\n",
      "25     157  125.916107\n",
      "26     115   93.210884\n",
      "27     114  129.372452\n",
      "28     112  133.745438\n",
      "29     446  390.731384\n",
      "30     204  202.559372\n",
      "31      89  121.823502\n",
      "32      69   74.094139\n",
      "33     135  122.174995\n",
      "34     207  196.253708\n",
      "35     146  112.249809\n",
      "36     111  119.886284\n",
      "37     119  104.660522\n",
      "38     334  408.971954\n",
      "39     138  143.707764\n",
      "40     104  116.218040\n",
      "41     134   93.260475\n",
      "42     326  353.742462\n",
      "43     215  147.462036\n",
      "44     104  122.798660\n",
      "45     237  238.100830\n",
      "46     160  135.396347\n",
      "47     122  147.280228\n",
      "48     188  156.148041\n",
      "49     106  135.609604\n"
     ]
    },
    {
     "data": {
      "text/plain": [
       "<matplotlib.axes._subplots.AxesSubplot at 0x7fdfb4f5ab10>"
      ]
     },
     "execution_count": 18,
     "metadata": {},
     "output_type": "execute_result"
    },
    {
     "data": {
      "image/png": "[encoded data removed]",
      "text/plain": [
       "<Figure size 1440x576 with 1 Axes>"
      ]
     },
     "metadata": {},
     "output_type": "display_data"
    }
   ],
   "source": [
    "stacked_averaged_models.fit(X_train, y_train)\n",
    "stacked_train_pred = stacked_averaged_models.predict(X_train)\n",
    "stacked_pred = stacked_averaged_models.predict(X_test)\n",
    "# print(y_train,stacked_pred)\n",
    "df = pd.DataFrame({'Actual':y_test, 'Predicted': stacked_pred})\n",
    "print(df)\n",
    "df.plot(figsize=(20,8))\n",
    "\n"
   ]
  },
  {
   "cell_type": "code",
   "execution_count": 19,
   "metadata": {},
   "outputs": [
    {
     "name": "stdout",
     "output_type": "stream",
     "text": [
      "Mean Absolute Error: 33.578389434814454\n",
      "Mean Squared Error: 4775.2843733421005\n",
      "Root Mean Squared Error: 69.10343242807915\n",
      "r ^2  0.7028662586939515\n",
      "explained_variance_score 0.7157340193367097\n",
      "max_error 438.7861328125\n"
     ]
    }
   ],
   "source": [
    "from sklearn.metrics import r2_score\n",
    "from sklearn.metrics import r2_score\n",
    "from sklearn.metrics import explained_variance_score\n",
    "from sklearn.metrics import max_error\n",
    "from sklearn import metrics\n",
    "\n",
    "print('Mean Absolute Error:', metrics.mean_absolute_error(y_test, stacked_pred))  \n",
    "print('Mean Squared Error:', metrics.mean_squared_error(y_test, stacked_pred))  \n",
    "print('Root Mean Squared Error:', np.sqrt(metrics.mean_squared_error(y_test, stacked_pred)))\n",
    "print('r ^2 ',r2_score(y_test, stacked_pred))\n",
    "# print('score',ereg.score(y_test, y_pred))\n",
    "print('explained_variance_score',explained_variance_score(y_test, stacked_pred))\n",
    "print('max_error',max_error(y_test, stacked_pred))\n",
    "\n"
   ]
  },
  {
   "cell_type": "code",
   "execution_count": null,
   "metadata": {},
   "outputs": [],
   "source": []
  },
  {
   "cell_type": "code",
   "execution_count": null,
   "metadata": {},
   "outputs": [],
   "source": []
  },
  {
   "cell_type": "code",
   "execution_count": null,
   "metadata": {},
   "outputs": [],
   "source": []
  }
 ],
 "metadata": {
  "kernelspec": {
   "display_name": "Python 3",
   "language": "python",
   "name": "python3"
  },
  "language_info": {
   "codemirror_mode": {
    "name": "ipython",
    "version": 3
   },
   "file_extension": ".py",
   "mimetype": "text/x-python",
   "name": "python",
   "nbconvert_exporter": "python",
   "pygments_lexer": "ipython3",
   "version": "3.7.7"
  }
 },
 "nbformat": 4,
 "nbformat_minor": 2
}
